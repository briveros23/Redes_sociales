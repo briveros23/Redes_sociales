{
 "cells": [
  {
   "cell_type": "markdown",
   "metadata": {},
   "source": [
    "# dependencias"
   ]
  },
  {
   "cell_type": "code",
   "execution_count": 10,
   "metadata": {},
   "outputs": [],
   "source": [
    "import igraph as ig\n",
    "import json\n",
    "import numpy as np\n",
    "import sys\n",
    "import os \n",
    "if '../src' not in sys.path:\n",
    "    sys.path.append('../src')\n",
    "import utilidadest5 as ut"
   ]
  },
  {
   "cell_type": "markdown",
   "metadata": {},
   "source": [
    "# lectura de los datos "
   ]
  },
  {
   "cell_type": "code",
   "execution_count": 11,
   "metadata": {},
   "outputs": [],
   "source": [
    "# leemos el json\n",
    "with open('../input/graph/Universidad Nacional de Colombia-Bogotá-FACULTAD DE CIENCIAS-Departamento de Estadística.json') as f:\n",
    "    data = json.load(f)"
   ]
  },
  {
   "cell_type": "code",
   "execution_count": 12,
   "metadata": {},
   "outputs": [],
   "source": [
    "# nodos \n",
    "nodos = data['nodes']\n",
    "# aristas\n",
    "aristas = data['links']\n",
    "# info aparte \n",
    "options = data['options']"
   ]
  },
  {
   "cell_type": "code",
   "execution_count": 13,
   "metadata": {},
   "outputs": [
    {
     "data": {
      "text/plain": [
       "{'id': 1655, 'label': 'Diaz Monroy Luis Guillermo', 'type': 'author'}"
      ]
     },
     "execution_count": 13,
     "metadata": {},
     "output_type": "execute_result"
    }
   ],
   "source": [
    "nodos[1]"
   ]
  },
  {
   "cell_type": "code",
   "execution_count": 14,
   "metadata": {},
   "outputs": [],
   "source": [
    "G = ut.grafo_biparito_t5(nodos, aristas, '2d4d5a17-7ef0-4fc4-8b25-d1af93445f50')"
   ]
  },
  {
   "cell_type": "code",
   "execution_count": 24,
   "metadata": {},
   "outputs": [
    {
     "name": "stdout",
     "output_type": "stream",
     "text": [
      "58\n"
     ]
    },
    {
     "data": {
      "text/plain": [
       "array([[0, 3, 3, ..., 3, 0, 0],\n",
       "       [3, 0, 3, ..., 3, 0, 0],\n",
       "       [3, 3, 0, ..., 3, 0, 0],\n",
       "       ...,\n",
       "       [3, 3, 3, ..., 0, 0, 0],\n",
       "       [0, 0, 0, ..., 0, 0, 0],\n",
       "       [0, 0, 0, ..., 0, 0, 0]])"
      ]
     },
     "execution_count": 24,
     "metadata": {},
     "output_type": "execute_result"
    }
   ],
   "source": [
    "# matriz de adyacencia\n",
    "A = np.array(G.get_biadjacency()[0]) \n",
    "autores = G.vs.select(type=False)['label']\n",
    "print(len(autores))\n",
    "# A * A^t\n",
    "A_A_t = np.dot(A, A.T)\n",
    "# remplazamos la diagonal con ceros \n",
    "np.fill_diagonal(A_A_t, 0)\n",
    "A_A_t"
   ]
  },
  {
   "cell_type": "code",
   "execution_count": 25,
   "metadata": {},
   "outputs": [],
   "source": [
    "G_autores = ut.grafo_matriz_adyacencia_t5(A_A_t, autores)"
   ]
  },
  {
   "cell_type": "code",
   "execution_count": 27,
   "metadata": {},
   "outputs": [],
   "source": [
    "layout = G_autores.layout(\"fr\")\n",
    "ig.plot(G_autores, layout = layout, bbox = (1000, 1000), margin = 20).save('../output/taller 5_plot/grafo_autores.png')"
   ]
  }
 ],
 "metadata": {
  "kernelspec": {
   "display_name": "redes_sociales",
   "language": "python",
   "name": "python3"
  },
  "language_info": {
   "codemirror_mode": {
    "name": "ipython",
    "version": 3
   },
   "file_extension": ".py",
   "mimetype": "text/x-python",
   "name": "python",
   "nbconvert_exporter": "python",
   "pygments_lexer": "ipython3",
   "version": "3.12.2"
  }
 },
 "nbformat": 4,
 "nbformat_minor": 2
}
