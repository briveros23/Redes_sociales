{
 "cells": [
  {
   "cell_type": "markdown",
   "metadata": {},
   "source": [
    "# dependencias"
   ]
  },
  {
   "cell_type": "code",
   "execution_count": 1,
   "metadata": {},
   "outputs": [],
   "source": [
    "import igraph as ig\n",
    "import json\n",
    "import numpy as np\n",
    "import sys\n",
    "import os \n",
    "if '../src' not in sys.path:\n",
    "    sys.path.append('../src')\n",
    "import utilidadest5 as ut"
   ]
  },
  {
   "cell_type": "markdown",
   "metadata": {},
   "source": [
    "# lectura de los datos "
   ]
  },
  {
   "cell_type": "code",
   "execution_count": 2,
   "metadata": {},
   "outputs": [],
   "source": [
    "# leemos el json\n",
    "# Estadística,Biología, Farmacia, Física, Geociencias, Matemáticas y Química.\n",
    "facultades = ['Estadistica', 'Biologia', 'Farmacia', 'Fisica', 'Geociencias', 'Matematicas', 'Quimica']\n",
    "with open('../input/graph/Universidad Nacional de Colombia-Bogotá-FACULTAD DE CIENCIAS-Departamento de Estadística.json') as f:\n",
    "    data_est = json.load(f)\n",
    "with open('../input/graph/Universidad Nacional de Colombia-Bogotá-FACULTAD DE CIENCIAS-Departamento de Biología.json') as f:\n",
    "    data_bio = json.load(f)\n",
    "with open('../input/graph/Universidad Nacional de Colombia-Bogotá-FACULTAD DE CIENCIAS-Departamento de Farmacia.json') as f:\n",
    "    data_far = json.load(f)\n",
    "with open('../input/graph/Universidad Nacional de Colombia-Bogotá-FACULTAD DE CIENCIAS-Departamento de Física.json') as f:\n",
    "    data_fis = json.load(f)\n",
    "with open('../input/graph/Universidad Nacional de Colombia-Bogotá-FACULTAD DE CIENCIAS-Departamento de Geociencias.json') as f:\n",
    "    data_geo = json.load(f)\n",
    "with open('../input/graph/Universidad Nacional de Colombia-Bogotá-FACULTAD DE CIENCIAS-Departamento de Matemáticas.json') as f:\n",
    "    data_mat = json.load(f)\n",
    "with open('../input/graph/Universidad Nacional de Colombia-Bogotá-FACULTAD DE CIENCIAS-Departamento de Química.json') as f:\n",
    "    data_qui = json.load(f)    \n",
    "\n",
    "data = [data_est, data_bio, data_far, data_fis, data_geo, data_mat, data_qui]"
   ]
  },
  {
   "cell_type": "code",
   "execution_count": 3,
   "metadata": {},
   "outputs": [],
   "source": [
    "# nodos \n",
    "nodos = [nodos['nodes'] for nodos in data]\n",
    "# aristas\n",
    "aristas = [aristas['links'] for aristas in data]\n",
    "# info aparte \n",
    "options = [options['options'] for options in data]"
   ]
  },
  {
   "cell_type": "code",
   "execution_count": 4,
   "metadata": {},
   "outputs": [
    {
     "data": {
      "text/plain": [
       "['2d4d5a17-7ef0-4fc4-8b25-d1af93445f50',\n",
       " 'e0a9295b-404c-4134-99f0-756e8849413a',\n",
       " 'a43e06fd-60e5-48c6-8a38-ed271b978ea4',\n",
       " '425bda01-002d-4b05-95fb-71196da8736e',\n",
       " 'f9f44c87-afce-4bd3-a5aa-4988976fa40b',\n",
       " '9b94b0ad-bff6-4f20-ae80-170d728a6b9c',\n",
       " 'c290f8c7-1919-44c2-8e05-111249363db7']"
      ]
     },
     "execution_count": 4,
     "metadata": {},
     "output_type": "execute_result"
    }
   ],
   "source": [
    "id_evitar = [nodo[0]['id'] for nodo in nodos]\n",
    "id_evitar"
   ]
  },
  {
   "cell_type": "code",
   "execution_count": 5,
   "metadata": {},
   "outputs": [],
   "source": [
    "# Estadística,Biología, Farmacia, Física, Geociencias, Matemáticas y Química.\n",
    "G_est= ut.grafo_biparito_t5(nodos[0], aristas[0],id_evitar[0])\n",
    "G_bio= ut.grafo_biparito_t5(nodos[1], aristas[1],id_evitar[1])\n",
    "G_far= ut.grafo_biparito_t5(nodos[2], aristas[2],id_evitar[2])\n",
    "G_fis= ut.grafo_biparito_t5(nodos[3], aristas[3],id_evitar[3])\n",
    "G_geo= ut.grafo_biparito_t5(nodos[4], aristas[4],id_evitar[4])\n",
    "G_mat= ut.grafo_biparito_t5(nodos[5], aristas[5],id_evitar[5])\n",
    "G_qui= ut.grafo_biparito_t5(nodos[6], aristas[6],id_evitar[6])\n",
    "Grafos = [G_est, G_bio, G_far, G_fis, G_geo, G_mat, G_qui]"
   ]
  },
  {
   "cell_type": "code",
   "execution_count": 6,
   "metadata": {},
   "outputs": [
    {
     "name": "stdout",
     "output_type": "stream",
     "text": [
      "58\n",
      "108\n",
      "90\n",
      "146\n",
      "82\n",
      "192\n",
      "210\n"
     ]
    }
   ],
   "source": [
    "adyacencia = [] \n",
    "autores_list = []\n",
    "for G in Grafos:\n",
    "    # matriz de adyacencia\n",
    "    A = np.array(G.get_biadjacency()[0]) \n",
    "    autores = G.vs.select(type=False)['label']\n",
    "    autores_list.append(autores)\n",
    "    print(len(autores))\n",
    "    # A * A^t\n",
    "    A_A_t = np.dot(A, A.T)\n",
    "    # remplazamos la diagonal con ceros \n",
    "    np.fill_diagonal(A_A_t, 0)\n",
    "    adyacencia.append(A_A_t)\n",
    "    "
   ]
  },
  {
   "cell_type": "code",
   "execution_count": 7,
   "metadata": {},
   "outputs": [],
   "source": [
    "grafos_autores = []\n",
    "for i in range(len(adyacencia)):\n",
    "    grafos_autores.append(ut.grafo_matriz_adyacencia_t5(adyacencia[i], autores_list[i]))"
   ]
  },
  {
   "cell_type": "code",
   "execution_count": 8,
   "metadata": {},
   "outputs": [
    {
     "name": "stdout",
     "output_type": "stream",
     "text": [
      "IGRAPH U-W- 58 706 -- \n",
      "+ attr: label (v), weight (e)\n",
      "IGRAPH U-W- 108 1584 -- \n",
      "+ attr: label (v), weight (e)\n",
      "IGRAPH U-W- 90 1031 -- \n",
      "+ attr: label (v), weight (e)\n",
      "IGRAPH U-W- 146 2607 -- \n",
      "+ attr: label (v), weight (e)\n",
      "IGRAPH U-W- 82 510 -- \n",
      "+ attr: label (v), weight (e)\n",
      "IGRAPH U-W- 192 2148 -- \n",
      "+ attr: label (v), weight (e)\n",
      "IGRAPH U-W- 210 6237 -- \n",
      "+ attr: label (v), weight (e)\n"
     ]
    }
   ],
   "source": [
    "for grafo_autores in grafos_autores:\n",
    "    print(grafo_autores.summary())"
   ]
  },
  {
   "cell_type": "code",
   "execution_count": 10,
   "metadata": {},
   "outputs": [],
   "source": [
    "for i in range(len(grafos_autores)):\n",
    "    layout = grafos_autores[i].layout(\"kk\")\n",
    "    layout.scale(1.0)\n",
    "    # tranparencia de los nodos\n",
    "    grafos_autores[i].vs['color'] =  \"#00BFFF80\"\n",
    "    \n",
    "    ig.plot(grafos_autores[i], layout = layout, bbox = (1000, 1000), margin = 20,vertex_label= None,vertex_size=10 ).save('../output/taller 5_plot/grafo_autores_'+ facultades[i] +'.png')\n"
   ]
  },
  {
   "cell_type": "code",
   "execution_count": null,
   "metadata": {},
   "outputs": [],
   "source": [
    "# subgrafo conexo\n",
    "G_autores_conexo = grafos_autores[0].connected_components().giant()\n",
    "ig.plot(G_autores_conexo, layout = layout, bbox = (1000, 1000), margin = 20, vertex_size = 10, vertex_label_dist = 10).save('../output/taller 5_plot/grafo_autores_conexo.png')\n"
   ]
  },
  {
   "cell_type": "code",
   "execution_count": null,
   "metadata": {},
   "outputs": [],
   "source": [
    "sum_pesos_aristas = G_autores_conexo.strength(weights='weight')\n",
    "\n",
    "# Normalizar la suma de los pesos de las aristas para ajustarla al rango de tamaños de los nodos\n",
    "max_sum_pesos_aristas = max(sum_pesos_aristas)\n",
    "sizes = [x / max_sum_pesos_aristas * 40 for x in sum_pesos_aristas]  # Ajusta el rango de tamaño deseado\n",
    "G_autores_conexo.vs[\"size\"] = sizes"
   ]
  },
  {
   "cell_type": "code",
   "execution_count": null,
   "metadata": {},
   "outputs": [],
   "source": [
    "dendrogram = G_autores_conexo.community_edge_betweenness(weights=\"weight\")\n",
    "layout_autores_conexo = G_autores_conexo.layout(\"kk\")\n",
    "\n",
    "# Obtener las comunidades finales\n",
    "communities = dendrogram.as_clustering()\n",
    "\n",
    "# Obtener el número de comunidades\n",
    "num_communities = len(communities)\n",
    "\n",
    "# Asignar colores a cada comunidad\n",
    "palette = ig.RainbowPalette(n=num_communities)\n",
    "community_colors = [palette.get(i) for i in communities.membership]\n",
    "\n",
    "\n",
    "# Definir transparencia para los nodos\n",
    "node_transparency = 0.5  # Valor entre 0 y 1, donde 0 es completamente transparente y 1 es completamente opaco\n",
    "\n",
    "# Convertir los colores de las comunidades a RGBA con la transparencia deseada\n",
    "community_colors_with_alpha = [color[:-1] + (node_transparency,) for color in community_colors]\n",
    "\n",
    "# Dibujar el grafo con nodos semi-transparentes\n",
    "ig.plot(G_autores_conexo,'../output/taller4_plot/caso_6/comunidades_6.png', layout=layout_autores_conexo,vertex_color=community_colors_with_alpha,vertex_label= None,).save('../output/taller 5_plot/comunidades_autores_conexo.png')"
   ]
  }
 ],
 "metadata": {
  "kernelspec": {
   "display_name": "redes_sociales",
   "language": "python",
   "name": "python3"
  },
  "language_info": {
   "codemirror_mode": {
    "name": "ipython",
    "version": 3
   },
   "file_extension": ".py",
   "mimetype": "text/x-python",
   "name": "python",
   "nbconvert_exporter": "python",
   "pygments_lexer": "ipython3",
   "version": "3.11.7"
  }
 },
 "nbformat": 4,
 "nbformat_minor": 2
}
