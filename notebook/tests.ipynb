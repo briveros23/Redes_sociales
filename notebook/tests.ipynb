{
 "cells": [
  {
   "cell_type": "code",
   "execution_count": 2,
   "metadata": {},
   "outputs": [
    {
     "name": "stdout",
     "output_type": "stream",
     "text": [
      "IGRAPH UNWT 4 2 -- \n",
      "+ attr: label (v), name (v), type (v), relation (e), weight (e)\n",
      "El grafo es bipartito: True\n",
      "Arista entre 0 y 1 con peso 1.5 y relación friend\n",
      "Arista entre 2 y 3 con peso 2.5 y relación colleague\n"
     ]
    },
    {
     "name": "stderr",
     "output_type": "stream",
     "text": [
      "C:\\Users\\bcriv\\AppData\\Local\\Temp\\ipykernel_12256\\497454828.py:17: DeprecationWarning: You are using integers as vertex names. This is discouraged because most igraph functions interpret integers as vertex _IDs_ and strings as vertex names. For sake of consistency, convert your vertex names to strings before assigning them. Future versions from igraph 0.11.0 will disallow integers as vertex names.\n",
      "  g.add_vertex(name=node['id'], label=node['label'], type=node['type'])\n"
     ]
    }
   ],
   "source": [
    "import json\n",
    "from igraph import Graph\n",
    "\n",
    "# Leer y parsear el archivo JSON\n",
    "with open('../input/tests.json', 'r') as f:\n",
    "    data = json.load(f)\n",
    "\n",
    "# Extraer nodos y aristas del JSON\n",
    "nodes = data['nodes']\n",
    "edges = data['edges']\n",
    "\n",
    "# Crear un grafo bipartito vacío\n",
    "g = Graph()\n",
    "\n",
    "# Añadir nodos al grafo, con el atributo bipartite\n",
    "for node in nodes:\n",
    "    g.add_vertex(name=node['id'], label=node['label'], type=node['type'])\n",
    "\n",
    "# Añadir aristas al grafo y sus atributos\n",
    "for edge in edges:\n",
    "    g.add_edge(edge['source'], edge['target'], weight=edge['weight'], relation=edge['relation'])\n",
    "\n",
    "# Marcar el grafo como bipartito\n",
    "# La propiedad 'type' de los nodos se utilizará para identificar las dos partes\n",
    "g.vs[\"type\"] = [node[\"type\"] for node in nodes]\n",
    "\n",
    "# Mostrar información del grafo\n",
    "print(g.summary())\n",
    "\n",
    "# Verificar si el grafo es bipartito\n",
    "is_bipartite = g.is_bipartite()\n",
    "print(\"El grafo es bipartito:\", is_bipartite)\n",
    "\n",
    "# Mostrar los atributos de las aristas\n",
    "for edge in g.es:\n",
    "    print(f\"Arista entre {edge.source} y {edge.target} con peso {edge['weight']} y relación {edge['relation']}\")\n"
   ]
  },
  {
   "cell_type": "code",
   "execution_count": 4,
   "metadata": {},
   "outputs": [
    {
     "data": {
      "text/plain": [
       "[0, 1, 2, 3]"
      ]
     },
     "execution_count": 4,
     "metadata": {},
     "output_type": "execute_result"
    }
   ],
   "source": [
    "g.vs['name']"
   ]
  },
  {
   "cell_type": "code",
   "execution_count": 6,
   "metadata": {},
   "outputs": [
    {
     "name": "stdout",
     "output_type": "stream",
     "text": [
      "IGRAPH UN-T 5 4 --\n",
      "+ attr: name (v), type (v)\n",
      "+ edges (vertex names):\n",
      "A--D, A--E, B--D, C--E\n"
     ]
    }
   ],
   "source": [
    "import igraph as ig\n",
    "import numpy as np\n",
    "import matplotlib.pyplot as plt\n",
    "\n",
    "# Crear un grafo vacío\n",
    "g = ig.Graph()\n",
    "\n",
    "# Añadir vértices, asignando un atributo de tipo\n",
    "g.add_vertices(5)\n",
    "g.vs['name'] = ['A', 'B', 'C', 'D', 'E']\n",
    "g.vs['type'] = [0, 0, 0, 1, 1]\n",
    "\n",
    "# Añadir aristas\n",
    "edges = [(0, 3), (0, 4), (1, 3), (2, 4)]\n",
    "g.add_edges(edges)\n",
    "\n",
    "# Imprimir el grafo\n",
    "print(g)\n",
    "\n",
    "# Obtener la matriz de biadyacencia\n",
    "biadjacency_matrix = g.get_biadjacency()\n",
    "\n",
    "# Convertir a un array de numpy\n",
    "# biadjacency_array = np.array(biadjacency_matrix.data)\n",
    "\n",
    "# # Imprimir la matriz de biadyacencia\n",
    "# print(\"Matriz de biadyacencia:\")\n",
    "# print(biadjacency_array)\n",
    "\n",
    "# # Visualizar la matriz de biadyacencia usando matplotlib\n",
    "# plt.imshow(biadjacency_array, cmap='binary', interpolation='none')\n",
    "# plt.colorbar()\n",
    "# plt.title(\"Matriz de Biadyacencia\")\n",
    "# plt.xlabel(\"Conjunto 2\")\n",
    "# plt.ylabel(\"Conjunto 1\")\n",
    "# plt.show()\n"
   ]
  },
  {
   "cell_type": "code",
   "execution_count": 19,
   "metadata": {},
   "outputs": [
    {
     "data": {
      "text/plain": [
       "array([[1, 1],\n",
       "       [1, 0],\n",
       "       [0, 1]])"
      ]
     },
     "execution_count": 19,
     "metadata": {},
     "output_type": "execute_result"
    }
   ],
   "source": [
    "# numpy array\n",
    "np.array(biadjacency_matrix[0])"
   ]
  },
  {
   "cell_type": "code",
   "execution_count": 2,
   "metadata": {},
   "outputs": [],
   "source": [
    "import igraph as ig\n",
    "import matplotlib.pyplot as plt\n",
    "\n",
    "def plot_graph_clusters(grafo):\n",
    "    # Detectar comunidades usando el método de clusterización\n",
    "    clusters = grafo.community_multilevel()\n",
    "    \n",
    "    # Obtener los colores para cada vértice según el cluster\n",
    "    colors = clusters.membership\n",
    "    \n",
    "    # Calcular el tamaño de los vértices según su grado\n",
    "    degrees = grafo.degree()\n",
    "    vertex_sizes = [deg * 10 for deg in degrees]  # Ajustar el multiplicador según sea necesario\n",
    "    \n",
    "    # Configurar la disposición del grafo\n",
    "    layout = grafo.layout(\"fr\")  # Fruchterman-Reingold layout\n",
    "    \n",
    "    # Graficar el grafo\n",
    "    ig.plot(\n",
    "        clusters,\n",
    "        mark_groups=True,\n",
    "        graph_layout=layout,\n",
    "        vertex_color=colors,\n",
    "        vertex_size=vertex_sizes,\n",
    "        edge_width=1,\n",
    "        bbox=(800, 800),\n",
    "        margin=20\n",
    "    )\n",
    "    "
   ]
  },
  {
   "cell_type": "code",
   "execution_count": 3,
   "metadata": {},
   "outputs": [],
   "source": [
    "g = ig.Graph.Erdos_Renyi(n=30, m=45)\n",
    "plot_graph_clusters(g)"
   ]
  },
  {
   "cell_type": "code",
   "execution_count": 21,
   "metadata": {},
   "outputs": [
    {
     "name": "stdout",
     "output_type": "stream",
     "text": [
      "Unexpected exception formatting exception. Falling back to standard exception\n"
     ]
    },
    {
     "name": "stderr",
     "output_type": "stream",
     "text": [
      "Traceback (most recent call last):\n",
      "  File \"c:\\Users\\bcriv\\miniconda3\\envs\\semillero\\Lib\\site-packages\\IPython\\core\\interactiveshell.py\", line 3553, in run_code\n",
      "    exec(code_obj, self.user_global_ns, self.user_ns)\n",
      "  File \"C:\\Users\\bcriv\\AppData\\Local\\Temp\\ipykernel_1932\\1361839616.py\", line 16, in <module>\n",
      "    palette = ig.drawing.colors.ClusterColoringPalette(len(communities))\n",
      "                                                       ^^^^^^^^^^^^^^^^\n",
      "TypeError: object of type 'VertexDendrogram' has no len()\n",
      "\n",
      "During handling of the above exception, another exception occurred:\n",
      "\n",
      "Traceback (most recent call last):\n",
      "  File \"c:\\Users\\bcriv\\miniconda3\\envs\\semillero\\Lib\\site-packages\\IPython\\core\\interactiveshell.py\", line 2144, in showtraceback\n",
      "    stb = self.InteractiveTB.structured_traceback(\n",
      "          ^^^^^^^^^^^^^^^^^^^^^^^^^^^^^^^^^^^^^^^^\n",
      "  File \"c:\\Users\\bcriv\\miniconda3\\envs\\semillero\\Lib\\site-packages\\IPython\\core\\ultratb.py\", line 1435, in structured_traceback\n",
      "    return FormattedTB.structured_traceback(\n",
      "           ^^^^^^^^^^^^^^^^^^^^^^^^^^^^^^^^^\n",
      "  File \"c:\\Users\\bcriv\\miniconda3\\envs\\semillero\\Lib\\site-packages\\IPython\\core\\ultratb.py\", line 1326, in structured_traceback\n",
      "    return VerboseTB.structured_traceback(\n",
      "           ^^^^^^^^^^^^^^^^^^^^^^^^^^^^^^^\n",
      "  File \"c:\\Users\\bcriv\\miniconda3\\envs\\semillero\\Lib\\site-packages\\IPython\\core\\ultratb.py\", line 1173, in structured_traceback\n",
      "    formatted_exception = self.format_exception_as_a_whole(etype, evalue, etb, number_of_lines_of_context,\n",
      "                          ^^^^^^^^^^^^^^^^^^^^^^^^^^^^^^^^^^^^^^^^^^^^^^^^^^^^^^^^^^^^^^^^^^^^^^^^^^^^^^^^\n",
      "  File \"c:\\Users\\bcriv\\miniconda3\\envs\\semillero\\Lib\\site-packages\\IPython\\core\\ultratb.py\", line 1088, in format_exception_as_a_whole\n",
      "    frames.append(self.format_record(record))\n",
      "                  ^^^^^^^^^^^^^^^^^^^^^^^^^^\n",
      "  File \"c:\\Users\\bcriv\\miniconda3\\envs\\semillero\\Lib\\site-packages\\IPython\\core\\ultratb.py\", line 970, in format_record\n",
      "    frame_info.lines, Colors, self.has_colors, lvals\n",
      "    ^^^^^^^^^^^^^^^^\n",
      "  File \"c:\\Users\\bcriv\\miniconda3\\envs\\semillero\\Lib\\site-packages\\IPython\\core\\ultratb.py\", line 792, in lines\n",
      "    return self._sd.lines\n",
      "           ^^^^^^^^^^^^^^\n",
      "  File \"c:\\Users\\bcriv\\miniconda3\\envs\\semillero\\Lib\\site-packages\\stack_data\\utils.py\", line 144, in cached_property_wrapper\n",
      "    value = obj.__dict__[self.func.__name__] = self.func(obj)\n",
      "                                               ^^^^^^^^^^^^^^\n",
      "  File \"c:\\Users\\bcriv\\miniconda3\\envs\\semillero\\Lib\\site-packages\\stack_data\\core.py\", line 734, in lines\n",
      "    pieces = self.included_pieces\n",
      "             ^^^^^^^^^^^^^^^^^^^^\n",
      "  File \"c:\\Users\\bcriv\\miniconda3\\envs\\semillero\\Lib\\site-packages\\stack_data\\utils.py\", line 144, in cached_property_wrapper\n",
      "    value = obj.__dict__[self.func.__name__] = self.func(obj)\n",
      "                                               ^^^^^^^^^^^^^^\n",
      "  File \"c:\\Users\\bcriv\\miniconda3\\envs\\semillero\\Lib\\site-packages\\stack_data\\core.py\", line 677, in included_pieces\n",
      "    scope_pieces = self.scope_pieces\n",
      "                   ^^^^^^^^^^^^^^^^^\n",
      "  File \"c:\\Users\\bcriv\\miniconda3\\envs\\semillero\\Lib\\site-packages\\stack_data\\utils.py\", line 144, in cached_property_wrapper\n",
      "    value = obj.__dict__[self.func.__name__] = self.func(obj)\n",
      "                                               ^^^^^^^^^^^^^^\n",
      "  File \"c:\\Users\\bcriv\\miniconda3\\envs\\semillero\\Lib\\site-packages\\stack_data\\core.py\", line 614, in scope_pieces\n",
      "    scope_start, scope_end = self.source.line_range(self.scope)\n",
      "                             ^^^^^^^^^^^^^^^^^^^^^^^^^^^^^^^^^^\n",
      "  File \"c:\\Users\\bcriv\\miniconda3\\envs\\semillero\\Lib\\site-packages\\stack_data\\core.py\", line 178, in line_range\n",
      "    return line_range(self.asttext(), node)\n",
      "                      ^^^^^^^^^^^^\n",
      "AttributeError: 'Source' object has no attribute 'asttext'\n"
     ]
    }
   ],
   "source": [
    "import igraph as ig\n",
    "import matplotlib.pyplot as plt\n",
    "import random\n",
    "random.seed(0)\n",
    "\n",
    "# Crear un grafo de ejemplo\n",
    "g = ig.Graph.Erdos_Renyi(n=100, m=200,)\n",
    "layout = g.layout(\"fr\")\n",
    "\n",
    "# Ejecutar el algoritmo de Edge Betweenness\n",
    "communities = g.community_edge_betweenness()\n",
    "\n",
    "# Convertir a un objeto Clustering\n",
    "clustering = communities.as_clustering()\n",
    "# Asignar colores a las comunidades\n",
    "palette = ig.drawing.colors.ClusterColoringPalette(len(communities))\n",
    "g.vs['color'] = [palette[communities.membership[i]] for i in range(len(g.vs))]\n",
    "node_transparency = 0.5\n",
    "color = [color[:-1] + (node_transparency,) for color in g.vs['color']]\n",
    "# Plotear el grafo\n",
    "\n",
    "ig.plot(g, layout=layout, vertex_color=color)\n"
   ]
  }
 ],
 "metadata": {
  "kernelspec": {
   "display_name": "redes_sociales",
   "language": "python",
   "name": "python3"
  },
  "language_info": {
   "codemirror_mode": {
    "name": "ipython",
    "version": 3
   },
   "file_extension": ".py",
   "mimetype": "text/x-python",
   "name": "python",
   "nbconvert_exporter": "python",
   "pygments_lexer": "ipython3",
   "version": "3.11.7"
  }
 },
 "nbformat": 4,
 "nbformat_minor": 2
}
