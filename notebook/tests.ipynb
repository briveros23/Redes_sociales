{
 "cells": [
  {
   "cell_type": "code",
   "execution_count": 2,
   "metadata": {},
   "outputs": [
    {
     "name": "stdout",
     "output_type": "stream",
     "text": [
      "IGRAPH UNWT 4 2 -- \n",
      "+ attr: label (v), name (v), type (v), relation (e), weight (e)\n",
      "El grafo es bipartito: True\n",
      "Arista entre 0 y 1 con peso 1.5 y relación friend\n",
      "Arista entre 2 y 3 con peso 2.5 y relación colleague\n"
     ]
    },
    {
     "name": "stderr",
     "output_type": "stream",
     "text": [
      "C:\\Users\\bcriv\\AppData\\Local\\Temp\\ipykernel_12256\\497454828.py:17: DeprecationWarning: You are using integers as vertex names. This is discouraged because most igraph functions interpret integers as vertex _IDs_ and strings as vertex names. For sake of consistency, convert your vertex names to strings before assigning them. Future versions from igraph 0.11.0 will disallow integers as vertex names.\n",
      "  g.add_vertex(name=node['id'], label=node['label'], type=node['type'])\n"
     ]
    }
   ],
   "source": [
    "import json\n",
    "from igraph import Graph\n",
    "\n",
    "# Leer y parsear el archivo JSON\n",
    "with open('../input/tests.json', 'r') as f:\n",
    "    data = json.load(f)\n",
    "\n",
    "# Extraer nodos y aristas del JSON\n",
    "nodes = data['nodes']\n",
    "edges = data['edges']\n",
    "\n",
    "# Crear un grafo bipartito vacío\n",
    "g = Graph()\n",
    "\n",
    "# Añadir nodos al grafo, con el atributo bipartite\n",
    "for node in nodes:\n",
    "    g.add_vertex(name=node['id'], label=node['label'], type=node['type'])\n",
    "\n",
    "# Añadir aristas al grafo y sus atributos\n",
    "for edge in edges:\n",
    "    g.add_edge(edge['source'], edge['target'], weight=edge['weight'], relation=edge['relation'])\n",
    "\n",
    "# Marcar el grafo como bipartito\n",
    "# La propiedad 'type' de los nodos se utilizará para identificar las dos partes\n",
    "g.vs[\"type\"] = [node[\"type\"] for node in nodes]\n",
    "\n",
    "# Mostrar información del grafo\n",
    "print(g.summary())\n",
    "\n",
    "# Verificar si el grafo es bipartito\n",
    "is_bipartite = g.is_bipartite()\n",
    "print(\"El grafo es bipartito:\", is_bipartite)\n",
    "\n",
    "# Mostrar los atributos de las aristas\n",
    "for edge in g.es:\n",
    "    print(f\"Arista entre {edge.source} y {edge.target} con peso {edge['weight']} y relación {edge['relation']}\")\n"
   ]
  },
  {
   "cell_type": "code",
   "execution_count": 4,
   "metadata": {},
   "outputs": [
    {
     "data": {
      "text/plain": [
       "[0, 1, 2, 3]"
      ]
     },
     "execution_count": 4,
     "metadata": {},
     "output_type": "execute_result"
    }
   ],
   "source": [
    "g.vs['name']"
   ]
  },
  {
   "cell_type": "code",
   "execution_count": 6,
   "metadata": {},
   "outputs": [
    {
     "name": "stdout",
     "output_type": "stream",
     "text": [
      "IGRAPH UN-T 5 4 --\n",
      "+ attr: name (v), type (v)\n",
      "+ edges (vertex names):\n",
      "A--D, A--E, B--D, C--E\n"
     ]
    }
   ],
   "source": [
    "import igraph as ig\n",
    "import numpy as np\n",
    "import matplotlib.pyplot as plt\n",
    "\n",
    "# Crear un grafo vacío\n",
    "g = ig.Graph()\n",
    "\n",
    "# Añadir vértices, asignando un atributo de tipo\n",
    "g.add_vertices(5)\n",
    "g.vs['name'] = ['A', 'B', 'C', 'D', 'E']\n",
    "g.vs['type'] = [0, 0, 0, 1, 1]\n",
    "\n",
    "# Añadir aristas\n",
    "edges = [(0, 3), (0, 4), (1, 3), (2, 4)]\n",
    "g.add_edges(edges)\n",
    "\n",
    "# Imprimir el grafo\n",
    "print(g)\n",
    "\n",
    "# Obtener la matriz de biadyacencia\n",
    "biadjacency_matrix = g.get_biadjacency()\n",
    "\n",
    "# Convertir a un array de numpy\n",
    "# biadjacency_array = np.array(biadjacency_matrix.data)\n",
    "\n",
    "# # Imprimir la matriz de biadyacencia\n",
    "# print(\"Matriz de biadyacencia:\")\n",
    "# print(biadjacency_array)\n",
    "\n",
    "# # Visualizar la matriz de biadyacencia usando matplotlib\n",
    "# plt.imshow(biadjacency_array, cmap='binary', interpolation='none')\n",
    "# plt.colorbar()\n",
    "# plt.title(\"Matriz de Biadyacencia\")\n",
    "# plt.xlabel(\"Conjunto 2\")\n",
    "# plt.ylabel(\"Conjunto 1\")\n",
    "# plt.show()\n"
   ]
  },
  {
   "cell_type": "code",
   "execution_count": 19,
   "metadata": {},
   "outputs": [
    {
     "data": {
      "text/plain": [
       "array([[1, 1],\n",
       "       [1, 0],\n",
       "       [0, 1]])"
      ]
     },
     "execution_count": 19,
     "metadata": {},
     "output_type": "execute_result"
    }
   ],
   "source": [
    "# numpy array\n",
    "np.array(biadjacency_matrix[0])"
   ]
  },
  {
   "cell_type": "code",
   "execution_count": 2,
   "metadata": {},
   "outputs": [],
   "source": [
    "import igraph as ig\n",
    "import matplotlib.pyplot as plt\n",
    "\n",
    "def plot_graph_clusters(grafo):\n",
    "    # Detectar comunidades usando el método de clusterización\n",
    "    clusters = grafo.community_multilevel()\n",
    "    \n",
    "    # Obtener los colores para cada vértice según el cluster\n",
    "    colors = clusters.membership\n",
    "    \n",
    "    # Calcular el tamaño de los vértices según su grado\n",
    "    degrees = grafo.degree()\n",
    "    vertex_sizes = [deg * 10 for deg in degrees]  # Ajustar el multiplicador según sea necesario\n",
    "    \n",
    "    # Configurar la disposición del grafo\n",
    "    layout = grafo.layout(\"fr\")  # Fruchterman-Reingold layout\n",
    "    \n",
    "    # Graficar el grafo\n",
    "    ig.plot(\n",
    "        clusters,\n",
    "        mark_groups=True,\n",
    "        graph_layout=layout,\n",
    "        vertex_color=colors,\n",
    "        vertex_size=vertex_sizes,\n",
    "        edge_width=1,\n",
    "        bbox=(800, 800),\n",
    "        margin=20\n",
    "    )\n",
    "    "
   ]
  },
  {
   "cell_type": "code",
   "execution_count": 3,
   "metadata": {},
   "outputs": [],
   "source": [
    "g = ig.Graph.Erdos_Renyi(n=30, m=45)\n",
    "plot_graph_clusters(g)"
   ]
  },
  {
   "cell_type": "code",
   "execution_count": 21,
   "metadata": {},
   "outputs": [
    {
     "name": "stdout",
     "output_type": "stream",
     "text": [
      "Unexpected exception formatting exception. Falling back to standard exception\n"
     ]
    },
    {
     "name": "stderr",
     "output_type": "stream",
     "text": [
      "Traceback (most recent call last):\n",
      "  File \"c:\\Users\\bcriv\\miniconda3\\envs\\semillero\\Lib\\site-packages\\IPython\\core\\interactiveshell.py\", line 3553, in run_code\n",
      "    exec(code_obj, self.user_global_ns, self.user_ns)\n",
      "  File \"C:\\Users\\bcriv\\AppData\\Local\\Temp\\ipykernel_1932\\1361839616.py\", line 16, in <module>\n",
      "    palette = ig.drawing.colors.ClusterColoringPalette(len(communities))\n",
      "                                                       ^^^^^^^^^^^^^^^^\n",
      "TypeError: object of type 'VertexDendrogram' has no len()\n",
      "\n",
      "During handling of the above exception, another exception occurred:\n",
      "\n",
      "Traceback (most recent call last):\n",
      "  File \"c:\\Users\\bcriv\\miniconda3\\envs\\semillero\\Lib\\site-packages\\IPython\\core\\interactiveshell.py\", line 2144, in showtraceback\n",
      "    stb = self.InteractiveTB.structured_traceback(\n",
      "          ^^^^^^^^^^^^^^^^^^^^^^^^^^^^^^^^^^^^^^^^\n",
      "  File \"c:\\Users\\bcriv\\miniconda3\\envs\\semillero\\Lib\\site-packages\\IPython\\core\\ultratb.py\", line 1435, in structured_traceback\n",
      "    return FormattedTB.structured_traceback(\n",
      "           ^^^^^^^^^^^^^^^^^^^^^^^^^^^^^^^^^\n",
      "  File \"c:\\Users\\bcriv\\miniconda3\\envs\\semillero\\Lib\\site-packages\\IPython\\core\\ultratb.py\", line 1326, in structured_traceback\n",
      "    return VerboseTB.structured_traceback(\n",
      "           ^^^^^^^^^^^^^^^^^^^^^^^^^^^^^^^\n",
      "  File \"c:\\Users\\bcriv\\miniconda3\\envs\\semillero\\Lib\\site-packages\\IPython\\core\\ultratb.py\", line 1173, in structured_traceback\n",
      "    formatted_exception = self.format_exception_as_a_whole(etype, evalue, etb, number_of_lines_of_context,\n",
      "                          ^^^^^^^^^^^^^^^^^^^^^^^^^^^^^^^^^^^^^^^^^^^^^^^^^^^^^^^^^^^^^^^^^^^^^^^^^^^^^^^^\n",
      "  File \"c:\\Users\\bcriv\\miniconda3\\envs\\semillero\\Lib\\site-packages\\IPython\\core\\ultratb.py\", line 1088, in format_exception_as_a_whole\n",
      "    frames.append(self.format_record(record))\n",
      "                  ^^^^^^^^^^^^^^^^^^^^^^^^^^\n",
      "  File \"c:\\Users\\bcriv\\miniconda3\\envs\\semillero\\Lib\\site-packages\\IPython\\core\\ultratb.py\", line 970, in format_record\n",
      "    frame_info.lines, Colors, self.has_colors, lvals\n",
      "    ^^^^^^^^^^^^^^^^\n",
      "  File \"c:\\Users\\bcriv\\miniconda3\\envs\\semillero\\Lib\\site-packages\\IPython\\core\\ultratb.py\", line 792, in lines\n",
      "    return self._sd.lines\n",
      "           ^^^^^^^^^^^^^^\n",
      "  File \"c:\\Users\\bcriv\\miniconda3\\envs\\semillero\\Lib\\site-packages\\stack_data\\utils.py\", line 144, in cached_property_wrapper\n",
      "    value = obj.__dict__[self.func.__name__] = self.func(obj)\n",
      "                                               ^^^^^^^^^^^^^^\n",
      "  File \"c:\\Users\\bcriv\\miniconda3\\envs\\semillero\\Lib\\site-packages\\stack_data\\core.py\", line 734, in lines\n",
      "    pieces = self.included_pieces\n",
      "             ^^^^^^^^^^^^^^^^^^^^\n",
      "  File \"c:\\Users\\bcriv\\miniconda3\\envs\\semillero\\Lib\\site-packages\\stack_data\\utils.py\", line 144, in cached_property_wrapper\n",
      "    value = obj.__dict__[self.func.__name__] = self.func(obj)\n",
      "                                               ^^^^^^^^^^^^^^\n",
      "  File \"c:\\Users\\bcriv\\miniconda3\\envs\\semillero\\Lib\\site-packages\\stack_data\\core.py\", line 677, in included_pieces\n",
      "    scope_pieces = self.scope_pieces\n",
      "                   ^^^^^^^^^^^^^^^^^\n",
      "  File \"c:\\Users\\bcriv\\miniconda3\\envs\\semillero\\Lib\\site-packages\\stack_data\\utils.py\", line 144, in cached_property_wrapper\n",
      "    value = obj.__dict__[self.func.__name__] = self.func(obj)\n",
      "                                               ^^^^^^^^^^^^^^\n",
      "  File \"c:\\Users\\bcriv\\miniconda3\\envs\\semillero\\Lib\\site-packages\\stack_data\\core.py\", line 614, in scope_pieces\n",
      "    scope_start, scope_end = self.source.line_range(self.scope)\n",
      "                             ^^^^^^^^^^^^^^^^^^^^^^^^^^^^^^^^^^\n",
      "  File \"c:\\Users\\bcriv\\miniconda3\\envs\\semillero\\Lib\\site-packages\\stack_data\\core.py\", line 178, in line_range\n",
      "    return line_range(self.asttext(), node)\n",
      "                      ^^^^^^^^^^^^\n",
      "AttributeError: 'Source' object has no attribute 'asttext'\n"
     ]
    }
   ],
   "source": [
    "import igraph as ig\n",
    "import matplotlib.pyplot as plt\n",
    "import random\n",
    "random.seed(0)\n",
    "\n",
    "# Crear un grafo de ejemplo\n",
    "g = ig.Graph.Erdos_Renyi(n=100, m=200,)\n",
    "layout = g.layout(\"fr\")\n",
    "\n",
    "# Ejecutar el algoritmo de Edge Betweenness\n",
    "communities = g.community_edge_betweenness()\n",
    "\n",
    "# Convertir a un objeto Clustering\n",
    "clustering = communities.as_clustering()\n",
    "# Asignar colores a las comunidades\n",
    "palette = ig.drawing.colors.ClusterColoringPalette(len(communities))\n",
    "g.vs['color'] = [palette[communities.membership[i]] for i in range(len(g.vs))]\n",
    "node_transparency = 0.5\n",
    "color = [color[:-1] + (node_transparency,) for color in g.vs['color']]\n",
    "# Plotear el grafo\n",
    "\n",
    "ig.plot(g, layout=layout, vertex_color=color)\n"
   ]
  },
  {
   "cell_type": "code",
   "execution_count": 6,
   "metadata": {},
   "outputs": [
    {
     "name": "stdout",
     "output_type": "stream",
     "text": [
      "Nodo con mayor centralidad de grado: C\n",
      "Nodo con mayor centralidad de intermediación: C\n",
      "Nodo con mayor centralidad de cercanía: C\n",
      "Nodo con mayor centralidad de autovector: C\n"
     ]
    },
    {
     "data": {
      "image/svg+xml": [
       "<?xml version=\"1.0\" encoding=\"UTF-8\"?>\n",
       "<svg xmlns=\"http://www.w3.org/2000/svg\" xmlns:xlink=\"http://www.w3.org/1999/xlink\" width=\"200\" height=\"200\" viewBox=\"0 0 200 200\">\n",
       "<defs>\n",
       "<g>\n",
       "<g id=\"glyph-0-0\">\n",
       "<path d=\"M -0.0195312 0 L 3.828125 -10.023438 L 5.257812 -10.023438 L 9.359375 0 L 7.847656 0 L 6.679688 -3.035156 L 2.488281 -3.035156 L 1.386719 0 L -0.0195312 0 M 2.871094 -4.117188 L 6.269531 -4.117188 L 5.222656 -6.890625 C 4.902344 -7.734375 4.667969 -8.425781 4.511719 -8.96875 C 4.382812 -8.328125 4.203125 -7.6875 3.972656 -7.054688 Z M 2.871094 -4.117188 \"/>\n",
       "</g>\n",
       "<g id=\"glyph-0-1\">\n",
       "<path d=\"M 1.023438 0 L 1.023438 -10.023438 L 4.785156 -10.023438 C 5.550781 -10.023438 6.164062 -9.921875 6.628906 -9.71875 C 7.089844 -9.515625 7.453125 -9.203125 7.714844 -8.78125 C 7.976562 -8.359375 8.109375 -7.917969 8.109375 -7.457031 C 8.109375 -7.03125 7.992188 -6.625 7.757812 -6.25 C 7.527344 -5.871094 7.175781 -5.5625 6.707031 -5.332031 C 7.3125 -5.15625 7.777344 -4.851562 8.105469 -4.421875 C 8.429688 -3.996094 8.59375 -3.488281 8.59375 -2.90625 C 8.59375 -2.4375 8.492188 -2 8.296875 -1.597656 C 8.097656 -1.191406 7.851562 -0.882812 7.5625 -0.664062 C 7.269531 -0.445312 6.902344 -0.277344 6.464844 -0.167969 C 6.023438 -0.0546875 5.484375 0 4.847656 0 L 1.023438 0 M 2.351562 -5.8125 L 4.519531 -5.8125 C 5.105469 -5.8125 5.527344 -5.847656 5.78125 -5.925781 C 6.121094 -6.027344 6.375 -6.195312 6.546875 -6.425781 C 6.714844 -6.65625 6.800781 -6.949219 6.800781 -7.300781 C 6.800781 -7.632812 6.722656 -7.925781 6.5625 -8.179688 C 6.402344 -8.433594 6.175781 -8.605469 5.878906 -8.699219 C 5.582031 -8.792969 5.074219 -8.839844 4.355469 -8.839844 L 2.351562 -8.839844 L 2.351562 -5.8125 M 2.351562 -1.183594 L 4.847656 -1.183594 C 5.273438 -1.183594 5.574219 -1.199219 5.75 -1.230469 C 6.054688 -1.285156 6.308594 -1.375 6.515625 -1.503906 C 6.71875 -1.632812 6.886719 -1.816406 7.019531 -2.0625 C 7.152344 -2.304688 7.21875 -2.585938 7.21875 -2.90625 C 7.21875 -3.277344 7.125 -3.605469 6.929688 -3.878906 C 6.738281 -4.15625 6.476562 -4.347656 6.136719 -4.460938 C 5.796875 -4.570312 5.308594 -4.628906 4.667969 -4.628906 L 2.351562 -4.628906 Z M 2.351562 -1.183594 \"/>\n",
       "</g>\n",
       "<g id=\"glyph-0-2\">\n",
       "<path d=\"M 8.230469 -3.515625 L 9.554688 -3.179688 C 9.277344 -2.089844 8.777344 -1.257812 8.054688 -0.6875 C 7.332031 -0.113281 6.449219 0.171875 5.40625 0.171875 C 4.328125 0.171875 3.449219 -0.0507812 2.773438 -0.488281 C 2.09375 -0.929688 1.582031 -1.566406 1.226562 -2.398438 C 0.875 -3.234375 0.695312 -4.128906 0.695312 -5.085938 C 0.695312 -6.128906 0.898438 -7.039062 1.296875 -7.816406 C 1.695312 -8.59375 2.261719 -9.183594 2.996094 -9.585938 C 3.734375 -9.992188 4.542969 -10.191406 5.429688 -10.191406 C 6.429688 -10.191406 7.273438 -9.9375 7.957031 -9.425781 C 8.640625 -8.917969 9.117188 -8.199219 9.386719 -7.273438 L 8.078125 -6.964844 C 7.847656 -7.695312 7.511719 -8.226562 7.070312 -8.558594 C 6.625 -8.890625 6.070312 -9.058594 5.398438 -9.058594 C 4.628906 -9.058594 3.988281 -8.875 3.46875 -8.503906 C 2.953125 -8.132812 2.589844 -7.640625 2.378906 -7.015625 C 2.167969 -6.394531 2.0625 -5.753906 2.0625 -5.09375 C 2.0625 -4.242188 2.1875 -3.496094 2.4375 -2.859375 C 2.683594 -2.226562 3.070312 -1.75 3.59375 -1.4375 C 4.121094 -1.121094 4.6875 -0.964844 5.296875 -0.964844 C 6.039062 -0.964844 6.667969 -1.179688 7.183594 -1.605469 C 7.699219 -2.035156 8.046875 -2.671875 8.230469 -3.515625 Z M 8.230469 -3.515625 \"/>\n",
       "</g>\n",
       "<g id=\"glyph-0-3\">\n",
       "<path d=\"M 1.078125 0 L 1.078125 -10.023438 L 4.53125 -10.023438 C 5.3125 -10.023438 5.90625 -9.972656 6.316406 -9.878906 C 6.890625 -9.746094 7.378906 -9.507812 7.785156 -9.160156 C 8.316406 -8.714844 8.710938 -8.144531 8.972656 -7.449219 C 9.234375 -6.753906 9.367188 -5.957031 9.367188 -5.066406 C 9.367188 -4.304688 9.277344 -3.628906 9.097656 -3.042969 C 8.921875 -2.453125 8.691406 -1.96875 8.414062 -1.582031 C 8.136719 -1.199219 7.832031 -0.894531 7.503906 -0.671875 C 7.171875 -0.453125 6.773438 -0.285156 6.304688 -0.171875 C 5.839844 -0.0585938 5.300781 0 4.695312 0 L 1.078125 0 M 2.40625 -1.183594 L 4.546875 -1.183594 C 5.207031 -1.183594 5.726562 -1.242188 6.101562 -1.367188 C 6.476562 -1.492188 6.777344 -1.664062 7 -1.886719 C 7.3125 -2.203125 7.558594 -2.625 7.734375 -3.15625 C 7.910156 -3.6875 8 -4.328125 8 -5.085938 C 8 -6.132812 7.824219 -6.941406 7.480469 -7.503906 C 7.136719 -8.066406 6.71875 -8.441406 6.226562 -8.632812 C 5.871094 -8.769531 5.300781 -8.839844 4.511719 -8.839844 L 2.40625 -8.839844 Z M 2.40625 -1.183594 \"/>\n",
       "</g>\n",
       "<g id=\"glyph-0-4\">\n",
       "<path d=\"M 1.109375 0 L 1.109375 -10.023438 L 8.351562 -10.023438 L 8.351562 -8.839844 L 2.433594 -8.839844 L 2.433594 -5.769531 L 7.976562 -5.769531 L 7.976562 -4.59375 L 2.433594 -4.59375 L 2.433594 -1.183594 L 8.585938 -1.183594 L 8.585938 0 Z M 1.109375 0 \"/>\n",
       "</g>\n",
       "</g>\n",
       "</defs>\n",
       "<rect x=\"-20\" y=\"-20\" width=\"240\" height=\"240\" fill=\"rgb(100%, 100%, 100%)\" fill-opacity=\"1\"/>\n",
       "<path fill=\"none\" stroke-width=\"1\" stroke-linecap=\"butt\" stroke-linejoin=\"miter\" stroke=\"rgb(26.666667%, 26.666667%, 26.666667%)\" stroke-opacity=\"1\" stroke-miterlimit=\"10\" d=\"M 180 120.820312 L 117.113281 180 \"/>\n",
       "<path fill=\"none\" stroke-width=\"1\" stroke-linecap=\"butt\" stroke-linejoin=\"miter\" stroke=\"rgb(26.666667%, 26.666667%, 26.666667%)\" stroke-opacity=\"1\" stroke-miterlimit=\"10\" d=\"M 180 120.820312 L 56.257812 116.5 \"/>\n",
       "<path fill=\"none\" stroke-width=\"1\" stroke-linecap=\"butt\" stroke-linejoin=\"miter\" stroke=\"rgb(26.666667%, 26.666667%, 26.666667%)\" stroke-opacity=\"1\" stroke-miterlimit=\"10\" d=\"M 180 120.820312 L 117.335938 59.019531 \"/>\n",
       "<path fill=\"none\" stroke-width=\"1\" stroke-linecap=\"butt\" stroke-linejoin=\"miter\" stroke=\"rgb(26.666667%, 26.666667%, 26.666667%)\" stroke-opacity=\"1\" stroke-miterlimit=\"10\" d=\"M 117.113281 180 L 56.257812 116.5 \"/>\n",
       "<path fill=\"none\" stroke-width=\"1\" stroke-linecap=\"butt\" stroke-linejoin=\"miter\" stroke=\"rgb(26.666667%, 26.666667%, 26.666667%)\" stroke-opacity=\"1\" stroke-miterlimit=\"10\" d=\"M 117.113281 180 L 117.335938 59.019531 \"/>\n",
       "<path fill=\"none\" stroke-width=\"1\" stroke-linecap=\"butt\" stroke-linejoin=\"miter\" stroke=\"rgb(26.666667%, 26.666667%, 26.666667%)\" stroke-opacity=\"1\" stroke-miterlimit=\"10\" d=\"M 56.257812 116.5 L 117.335938 59.019531 \"/>\n",
       "<path fill=\"none\" stroke-width=\"1\" stroke-linecap=\"butt\" stroke-linejoin=\"miter\" stroke=\"rgb(26.666667%, 26.666667%, 26.666667%)\" stroke-opacity=\"1\" stroke-miterlimit=\"10\" d=\"M 56.257812 116.5 L 20 20 \"/>\n",
       "<path fill=\"none\" stroke-width=\"1\" stroke-linecap=\"butt\" stroke-linejoin=\"miter\" stroke=\"rgb(26.666667%, 26.666667%, 26.666667%)\" stroke-opacity=\"1\" stroke-miterlimit=\"10\" d=\"M 117.335938 59.019531 L 20 20 \"/>\n",
       "<path fill-rule=\"nonzero\" fill=\"rgb(100%, 0%, 0%)\" fill-opacity=\"1\" stroke-width=\"1\" stroke-linecap=\"butt\" stroke-linejoin=\"miter\" stroke=\"rgb(0%, 0%, 0%)\" stroke-opacity=\"1\" stroke-miterlimit=\"10\" d=\"M 190 120.820312 C 190 126.339844 185.523438 130.820312 180 130.820312 C 174.476562 130.820312 170 126.339844 170 120.820312 C 170 115.296875 174.476562 110.820312 180 110.820312 C 185.523438 110.820312 190 115.296875 190 120.820312 \"/>\n",
       "<path fill-rule=\"nonzero\" fill=\"rgb(100%, 0%, 0%)\" fill-opacity=\"1\" stroke-width=\"1\" stroke-linecap=\"butt\" stroke-linejoin=\"miter\" stroke=\"rgb(0%, 0%, 0%)\" stroke-opacity=\"1\" stroke-miterlimit=\"10\" d=\"M 127.113281 180 C 127.113281 185.523438 122.636719 190 117.113281 190 C 111.59375 190 107.113281 185.523438 107.113281 180 C 107.113281 174.476562 111.59375 170 117.113281 170 C 122.636719 170 127.113281 174.476562 127.113281 180 \"/>\n",
       "<path fill-rule=\"nonzero\" fill=\"rgb(100%, 0%, 0%)\" fill-opacity=\"1\" stroke-width=\"1\" stroke-linecap=\"butt\" stroke-linejoin=\"miter\" stroke=\"rgb(0%, 0%, 0%)\" stroke-opacity=\"1\" stroke-miterlimit=\"10\" d=\"M 66.257812 116.5 C 66.257812 122.023438 61.78125 126.5 56.257812 126.5 C 50.738281 126.5 46.257812 122.023438 46.257812 116.5 C 46.257812 110.976562 50.738281 106.5 56.257812 106.5 C 61.78125 106.5 66.257812 110.976562 66.257812 116.5 \"/>\n",
       "<path fill-rule=\"nonzero\" fill=\"rgb(100%, 0%, 0%)\" fill-opacity=\"1\" stroke-width=\"1\" stroke-linecap=\"butt\" stroke-linejoin=\"miter\" stroke=\"rgb(0%, 0%, 0%)\" stroke-opacity=\"1\" stroke-miterlimit=\"10\" d=\"M 127.335938 59.019531 C 127.335938 64.542969 122.859375 69.019531 117.335938 69.019531 C 111.8125 69.019531 107.335938 64.542969 107.335938 59.019531 C 107.335938 53.496094 111.8125 49.019531 117.335938 49.019531 C 122.859375 49.019531 127.335938 53.496094 127.335938 59.019531 \"/>\n",
       "<path fill-rule=\"nonzero\" fill=\"rgb(100%, 0%, 0%)\" fill-opacity=\"1\" stroke-width=\"1\" stroke-linecap=\"butt\" stroke-linejoin=\"miter\" stroke=\"rgb(0%, 0%, 0%)\" stroke-opacity=\"1\" stroke-miterlimit=\"10\" d=\"M 30 20 C 30 25.523438 25.523438 30 20 30 C 14.476562 30 10 25.523438 10 20 C 10 14.476562 14.476562 10 20 10 C 25.523438 10 30 14.476562 30 20 \"/>\n",
       "<g fill=\"rgb(0%, 0%, 0%)\" fill-opacity=\"1\">\n",
       "<use xlink:href=\"#glyph-0-0\" x=\"175.332031\" y=\"127.8125\"/>\n",
       "</g>\n",
       "<g fill=\"rgb(0%, 0%, 0%)\" fill-opacity=\"1\">\n",
       "<use xlink:href=\"#glyph-0-1\" x=\"112.304688\" y=\"186.992188\"/>\n",
       "</g>\n",
       "<g fill=\"rgb(0%, 0%, 0%)\" fill-opacity=\"1\">\n",
       "<use xlink:href=\"#glyph-0-2\" x=\"51.132812\" y=\"123.578125\"/>\n",
       "</g>\n",
       "<g fill=\"rgb(0%, 0%, 0%)\" fill-opacity=\"1\">\n",
       "<use xlink:href=\"#glyph-0-3\" x=\"112.113281\" y=\"66.015625\"/>\n",
       "</g>\n",
       "<g fill=\"rgb(0%, 0%, 0%)\" fill-opacity=\"1\">\n",
       "<use xlink:href=\"#glyph-0-4\" x=\"15.152344\" y=\"26.992188\"/>\n",
       "</g>\n",
       "</svg>\n"
      ],
      "text/plain": [
       "<igraph.drawing.cairo.plot.CairoPlot at 0x28228954cd0>"
      ]
     },
     "execution_count": 6,
     "metadata": {
      "image/svg+xml": {
       "isolated": true
      }
     },
     "output_type": "execute_result"
    }
   ],
   "source": [
    "import igraph\n",
    "\n",
    "# Crear un grafo de ejemplo con nodos nombrados\n",
    "grafo = igraph.Graph(directed=False)\n",
    "grafo.add_vertices([\"A\", \"B\", \"C\", \"D\", \"E\"])\n",
    "grafo.add_edges([(\"A\", \"B\"), (\"A\", \"C\"), (\"A\", \"D\"), (\"B\", \"C\"), (\"B\", \"D\"), (\"C\", \"D\"), (\"C\", \"E\"), (\"D\", \"E\")])\n",
    "\n",
    "# Calcular centralidad de grado\n",
    "centralidad_grado = grafo.degree()\n",
    "nodo_max_grado = grafo.vs[centralidad_grado.index(max(centralidad_grado))][\"name\"]\n",
    "\n",
    "# Calcular centralidad de intermediación\n",
    "centralidad_intermediacion = grafo.betweenness()\n",
    "nodo_max_intermediacion = grafo.vs[centralidad_intermediacion.index(max(centralidad_intermediacion))][\"name\"]\n",
    "\n",
    "# Calcular centralidad de cercanía\n",
    "centralidad_cercania = grafo.closeness()\n",
    "nodo_max_cercania = grafo.vs[centralidad_cercania.index(max(centralidad_cercania))][\"name\"]\n",
    "\n",
    "# Calcular centralidad de autovector\n",
    "centralidad_autovector = grafo.eigenvector_centrality()\n",
    "nodo_max_autovector = grafo.vs[centralidad_autovector.index(max(centralidad_autovector))][\"name\"]\n",
    "\n",
    "# Imprimir los resultados\n",
    "print(\"Nodo con mayor centralidad de grado:\", nodo_max_grado)\n",
    "print(\"Nodo con mayor centralidad de intermediación:\", nodo_max_intermediacion)\n",
    "print(\"Nodo con mayor centralidad de cercanía:\", nodo_max_cercania)\n",
    "print(\"Nodo con mayor centralidad de autovector:\", nodo_max_autovector)\n",
    "\n",
    "igraph.plot(grafo, bbox=(200, 200), vertex_label = grafo.vs['name'], margin=20)"
   ]
  }
 ],
 "metadata": {
  "kernelspec": {
   "display_name": "redes_sociales",
   "language": "python",
   "name": "python3"
  },
  "language_info": {
   "codemirror_mode": {
    "name": "ipython",
    "version": 3
   },
   "file_extension": ".py",
   "mimetype": "text/x-python",
   "name": "python",
   "nbconvert_exporter": "python",
   "pygments_lexer": "ipython3",
   "version": "3.11.7"
  }
 },
 "nbformat": 4,
 "nbformat_minor": 2
}
