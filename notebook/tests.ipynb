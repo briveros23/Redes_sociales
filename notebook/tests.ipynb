{
 "cells": [
  {
   "cell_type": "code",
   "execution_count": 1,
   "metadata": {},
   "outputs": [],
   "source": [
    "import os\n",
    "import datetime\n",
    "import json\n",
    "import srt\n",
    "from youtube_transcript_api import YouTubeTranscriptApi, TranscriptsDisabled\n",
    "\n",
    "playlist_id = \"PLbtegW3d3L4IpwMvfSW8ceoeVoP5p2iiH\"\n",
    "playlist_url = f\"https://youtube.com/playlist?list={playlist_id}\"\n",
    "youtube_dl_cmd = f'youtube-dl -j --flat-playlist \"{playlist_url}\"'\n",
    "json_metas = os.popen(youtube_dl_cmd).readlines()\n",
    "\n",
    "for json_meta in json_metas:\n",
    "    meta = json.loads(json_meta)\n",
    "    url = meta['url']\n",
    "    title = meta['title']\n",
    "    output_path = f\"subs/{title.replace('/', '.')}.srt\"\n",
    "\n",
    "    if os.path.exists(output_path):\n",
    "        print(f\"skipping already downloaded {url}\")\n",
    "        continue\n",
    "\n",
    "    try:\n",
    "        sub = YouTubeTranscriptApi.get_transcript(url)\n",
    "        print(f\"subtitles are available for {url}\")\n",
    "        \n",
    "        sub_frames = []\n",
    "        for i, s in enumerate(sub):\n",
    "            sub_frames.append(srt.Subtitle(\n",
    "                index=i+1,\n",
    "                start=datetime.timedelta(s['start']),\n",
    "                end=datetime.timedelta(s['start']+s['duration']),\n",
    "                content=s['text']\n",
    "            ))\n",
    "        sub_srt = srt.compose(sub_frames)\n",
    "        \n",
    "        with open(output_path, \"w\") as sub_file:\n",
    "            sub_file.write(sub_srt)\n",
    "            \n",
    "    except TranscriptsDisabled:\n",
    "        print(f\"subtitles are missing for {url}\")\n",
    "        continue"
   ]
  }
 ],
 "metadata": {
  "kernelspec": {
   "display_name": "redes_sociales",
   "language": "python",
   "name": "python3"
  },
  "language_info": {
   "codemirror_mode": {
    "name": "ipython",
    "version": 3
   },
   "file_extension": ".py",
   "mimetype": "text/x-python",
   "name": "python",
   "nbconvert_exporter": "python",
   "pygments_lexer": "ipython3",
   "version": "3.12.2"
  }
 },
 "nbformat": 4,
 "nbformat_minor": 2
}
