{
 "cells": [
  {
   "cell_type": "code",
   "execution_count": 2,
   "metadata": {},
   "outputs": [
    {
     "name": "stdout",
     "output_type": "stream",
     "text": [
      "IGRAPH UNWT 4 2 -- \n",
      "+ attr: label (v), name (v), type (v), relation (e), weight (e)\n",
      "El grafo es bipartito: True\n",
      "Arista entre 0 y 1 con peso 1.5 y relación friend\n",
      "Arista entre 2 y 3 con peso 2.5 y relación colleague\n"
     ]
    },
    {
     "name": "stderr",
     "output_type": "stream",
     "text": [
      "C:\\Users\\bcriv\\AppData\\Local\\Temp\\ipykernel_12256\\497454828.py:17: DeprecationWarning: You are using integers as vertex names. This is discouraged because most igraph functions interpret integers as vertex _IDs_ and strings as vertex names. For sake of consistency, convert your vertex names to strings before assigning them. Future versions from igraph 0.11.0 will disallow integers as vertex names.\n",
      "  g.add_vertex(name=node['id'], label=node['label'], type=node['type'])\n"
     ]
    }
   ],
   "source": [
    "import json\n",
    "from igraph import Graph\n",
    "\n",
    "# Leer y parsear el archivo JSON\n",
    "with open('../input/tests.json', 'r') as f:\n",
    "    data = json.load(f)\n",
    "\n",
    "# Extraer nodos y aristas del JSON\n",
    "nodes = data['nodes']\n",
    "edges = data['edges']\n",
    "\n",
    "# Crear un grafo bipartito vacío\n",
    "g = Graph()\n",
    "\n",
    "# Añadir nodos al grafo, con el atributo bipartite\n",
    "for node in nodes:\n",
    "    g.add_vertex(name=node['id'], label=node['label'], type=node['type'])\n",
    "\n",
    "# Añadir aristas al grafo y sus atributos\n",
    "for edge in edges:\n",
    "    g.add_edge(edge['source'], edge['target'], weight=edge['weight'], relation=edge['relation'])\n",
    "\n",
    "# Marcar el grafo como bipartito\n",
    "# La propiedad 'type' de los nodos se utilizará para identificar las dos partes\n",
    "g.vs[\"type\"] = [node[\"type\"] for node in nodes]\n",
    "\n",
    "# Mostrar información del grafo\n",
    "print(g.summary())\n",
    "\n",
    "# Verificar si el grafo es bipartito\n",
    "is_bipartite = g.is_bipartite()\n",
    "print(\"El grafo es bipartito:\", is_bipartite)\n",
    "\n",
    "# Mostrar los atributos de las aristas\n",
    "for edge in g.es:\n",
    "    print(f\"Arista entre {edge.source} y {edge.target} con peso {edge['weight']} y relación {edge['relation']}\")\n"
   ]
  },
  {
   "cell_type": "code",
   "execution_count": 4,
   "metadata": {},
   "outputs": [
    {
     "data": {
      "text/plain": [
       "[0, 1, 2, 3]"
      ]
     },
     "execution_count": 4,
     "metadata": {},
     "output_type": "execute_result"
    }
   ],
   "source": [
    "g.vs['name']"
   ]
  }
 ],
 "metadata": {
  "kernelspec": {
   "display_name": "redes_sociales",
   "language": "python",
   "name": "python3"
  },
  "language_info": {
   "codemirror_mode": {
    "name": "ipython",
    "version": 3
   },
   "file_extension": ".py",
   "mimetype": "text/x-python",
   "name": "python",
   "nbconvert_exporter": "python",
   "pygments_lexer": "ipython3",
   "version": "3.11.7"
  }
 },
 "nbformat": 4,
 "nbformat_minor": 2
}
