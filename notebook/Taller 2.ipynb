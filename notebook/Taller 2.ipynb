{
 "cells": [
  {
   "cell_type": "markdown",
   "metadata": {},
   "source": [
    "Taller 1 Redes sociales\n",
    "\n",
    "Profesor: Juan Camilo Sosa Martinez\n",
    "\n",
    "integrantes:\n",
    "\n",
    "1. Bryan Camilo Riveros Guarnizo <briveros@unal.edu.co>\n",
    "2. John Edisson Puerto Pinzon <jepuertop@unal.edu.co> \n",
    "\n",
    "En este taller realizamos algunas funciones extra las cuales nos facilitaron algunas cosas, estas se encuentran en https://github.com/briveros23/Redes_sociales/tree/main/src pero también se encuentran comentadas en la celda usada"
   ]
  },
  {
   "cell_type": "markdown",
   "metadata": {},
   "source": [
    "2. El grado de un nodo en una red tanto dirigida como no dirigida se puede calcular fácilmente a partir de la matriz de adyacencia $\\mathbf{Y}=\\left[y_{i, j}\\right]$. El out-degree $d_i^{\\text {out }}$ y el in-degree $d_i^{\\text {in }}$ del nodo $i$ se pueden calcular respectivamente como:\n",
    "$$\n",
    "d_i^{\\text {out }}=\\sum_{j: j \\neq i} y_{i, j} \\quad \\text { y } \\quad d_i^{\\text {in }}=\\sum_{j: j \\neq i} y_{j, i} .\n",
    "$$\n",
    "\n",
    "Muestre que si la red es no dirigida entonces $d_i^{\\text {out }}=d_i^{\\text {in }}$."
   ]
  },
  {
   "cell_type": "code",
   "execution_count": null,
   "metadata": {},
   "outputs": [],
   "source": []
  }
 ],
 "metadata": {
  "kernelspec": {
   "display_name": "semillero",
   "language": "python",
   "name": "python3"
  },
  "language_info": {
   "name": "python",
   "version": "3.11.7"
  }
 },
 "nbformat": 4,
 "nbformat_minor": 2
}
